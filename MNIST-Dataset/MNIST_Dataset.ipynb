{
  "cells": [
    {
      "cell_type": "markdown",
      "metadata": {
        "id": "q9H0KBqW34qY"
      },
      "source": [
        "# MNIST Dataset Analysis\n",
        "\n",
        "The MNIST dataset is a classic dataset in machine learning, consisting of handwritten digits from 0 to 9. It is widely used for training and testing various image processing algorithms. This notebook demonstrates how to load and explore the MNIST dataset using TensorFlow.\n",
        "\n",
        "## Dataset Attribution\n",
        "\n",
        "The MNIST dataset was introduced in the following paper:\n",
        "\n",
        "**Title:** Gradient-Based Learning Applied to Document Recognition  \n",
        "**Authors:** Yann LeCun, Léon Bottou, Yoshua Bengio, and Patrick Haffner  \n",
        "**Journal:** Proceedings of the IEEE  \n",
        "**Volume:** 86  \n",
        "**Number:** 11  \n",
        "**Pages:** 2278–2324  \n",
        "**Year:** 1998\n",
        "\n",
        "Please refer to this paper for more details on the dataset and its use."
      ]
    },
    {
      "cell_type": "markdown",
      "metadata": {
        "id": "Cif9FW734vty"
      },
      "source": [
        "# Import Libraries\n",
        "\n",
        "The first step in this project is to import the libraries that will be needed hereafter."
      ]
    },
    {
      "cell_type": "code",
      "execution_count": 12,
      "metadata": {
        "id": "_06sApifAKHS"
      },
      "outputs": [],
      "source": [
        "from keras import layers\n",
        "from keras import models\n",
        "from keras.datasets import mnist\n",
        "from keras.utils import to_categorical\n",
        "from matplotlib import pyplot as plt\n",
        "import numpy as np\n",
        "import random"
      ]
    },
    {
      "cell_type": "markdown",
      "metadata": {
        "id": "vDeqCy_c5M4d"
      },
      "source": [
        "# Load Dataset\n",
        "\n",
        "Keras comes built-in with various datasets, one of them being the MNIST Dataset. This is the dataset I will be working for this project."
      ]
    },
    {
      "cell_type": "code",
      "execution_count": 13,
      "metadata": {
        "colab": {
          "base_uri": "https://localhost:8080/"
        },
        "id": "pesXwCmSARnQ",
        "outputId": "6eeab223-45d8-4bcb-9bea-218ecc48ef35"
      },
      "outputs": [],
      "source": [
        "(train_images, train_labels), (test_images, test_labels) = mnist.load_data()"
      ]
    },
    {
      "cell_type": "markdown",
      "metadata": {
        "id": "ZgjjWnF_vjUh"
      },
      "source": [
        "Now that I have the images and the labels, I now want to know the data types of the images and labels. The result is they're all NumPy Arrays."
      ]
    },
    {
      "cell_type": "code",
      "execution_count": 14,
      "metadata": {
        "colab": {
          "base_uri": "https://localhost:8080/"
        },
        "id": "dh4gwW4svaXf",
        "outputId": "3d98f210-2cbc-44f9-af0e-1a74218ccaa1"
      },
      "outputs": [
        {
          "name": "stdout",
          "output_type": "stream",
          "text": [
            "<class 'numpy.ndarray'>\n",
            "<class 'numpy.ndarray'>\n",
            "<class 'numpy.ndarray'>\n",
            "<class 'numpy.ndarray'>\n"
          ]
        }
      ],
      "source": [
        "print(type(train_images))\n",
        "print(type(train_labels))\n",
        "print(type(test_images))\n",
        "print(type(test_labels))"
      ]
    },
    {
      "cell_type": "markdown",
      "metadata": {
        "id": "N4Yf43S-In21"
      },
      "source": [
        "Now I want to analyze the shapes of all the different NumPy Arrays. This will be helpful later on, once we start working with **Data Pre-Processing**."
      ]
    },
    {
      "cell_type": "code",
      "execution_count": 15,
      "metadata": {
        "colab": {
          "base_uri": "https://localhost:8080/"
        },
        "id": "YP2l41LKBRNo",
        "outputId": "822a6ec1-8c9a-4ade-dffd-8e52690a3057"
      },
      "outputs": [
        {
          "name": "stdout",
          "output_type": "stream",
          "text": [
            "(60000, 28, 28)\n",
            "(60000,)\n",
            "(10000, 28, 28)\n",
            "(10000,)\n"
          ]
        }
      ],
      "source": [
        "print(train_images.shape)\n",
        "print(train_labels.shape)\n",
        "print(test_images.shape)\n",
        "print(test_labels.shape)"
      ]
    },
    {
      "cell_type": "markdown",
      "metadata": {
        "id": "Gu_-8HHP5Phi"
      },
      "source": [
        "# Data Pre-Processing\n",
        "\n",
        "In order to start working with the data, I first have to **reshape** the data and then **normalize** it.\n",
        "\n",
        "## Data Reshaping\n",
        "\n",
        "The reasoning behind reshaping the data is because neural networks, especially those designed for image classification, often expect input data in a specific format. The MNIST dataset consists of grayscale images of handwritten digits, each of size **28x28** pixels. The raw image data is stored as a **2D array** of shape **(28, 28)**, but neural networks typically expect input data in a **4D tensor** format, especially when using deep learning frameworks. The format of this **4D tensor** is [batch_size, height, width, channels].\n",
        "\n",
        "The elements in the 4D tensor are explained below:\n",
        "  - Batch Size: This dimension represents the number of images in a batch.\n",
        "  - Height and Width: These dimensions represent the spatial dimensions of the image.\n",
        "  - Channels: This dimension represents the color channels of the image. For grayscale images, this is 1, while for RGB images, it would be 3.\n",
        "\n",
        "## Data Normalization\n",
        "\n",
        "To ensure effective neural network training, pixel values are often normalized from the range [0, 255] to [0, 1]. This normalization process involves dividing by 255, a step that is necessary because pixel values are originally represented in an 8-bit format, known in NumPy as 'numpy.uint8'. This format uses integers ranging from 0 to 255, as an 8-bit value can represent 256 distinct states (from 0 to 255).\n",
        "\n",
        "To perform normalization, these integer values need to be converted to a floating-point type, such as 'float32'. This conversion is crucial because dividing integers directly can lead to precision issues. By converting to float and then dividing by 255, each pixel value is scaled to a decimal between 0 and 1.\n",
        "\n",
        "In the context of RGB images, where each color channel has 256 possible values, the total number of color combinations is 256^3. However, for grayscale images, we only need to consider the 256 possible values for a single channel.\n",
        "\n",
        "## Convert categorical labels to one-hot encoded format\n",
        "\n",
        "The 'to_categorical' method converts the Labels NumPy Array into an array containing multiple arrays (also called an object array). This applies a one-hot encoding format to each object (arrays) inside the main NumPy object Array."
      ]
    },
    {
      "cell_type": "code",
      "execution_count": 16,
      "metadata": {
        "id": "laicb6XjAmOF"
      },
      "outputs": [],
      "source": [
        "train_images = train_images.reshape((train_images.shape[0], 28 * 28)).astype('float32') / 255\n",
        "test_images = test_images.reshape((test_images.shape[0], 28 * 28)).astype('float32') / 225\n",
        "\n",
        "train_labels = to_categorical(train_labels)\n",
        "test_labels  = to_categorical(test_labels)"
      ]
    },
    {
      "cell_type": "markdown",
      "metadata": {
        "id": "hdYxhtXl5EZk"
      },
      "source": [
        "# Predictive Analytics\n",
        "\n",
        "## Introduction to the model\n",
        "\n",
        "The TensorFlow (or Keras) Sequential model is a linear stack of layers where each layer has exactly one input tensor and one output tensor, designed for building simple, straightforward neural networks in a step-by-step manner.\n",
        "\n",
        "## Creating an instance of the model\n",
        "\n",
        "The first step in creating and working with the model is to create an instance of the Sequential model.\n",
        "\n",
        "## Add layers to the model\n",
        "\n",
        "The next step is to add layers to the model. The model has a total of three layers. The input layer, the hidden layer, and the output layer.\n",
        "\n",
        "**The input layer** is created implicitly by **the first Dense layer**. The input shape is specified in **the first Dense layer**, which implicitly defines the input layer. The input layer consists of 784 neurons (since the input images are 28x28 pixels, flattened to a single vector of 784 pixels).\n",
        "\n",
        "**The first Dense layer**, or **the hidden layer**, acts as an intermediate layer that processes the input data, allowing the network to learn complex representations of the input. It contains **512 units (or neurons)** and uses the ReLu activation function. **The ReLU (Rectified Linear Unit)** is a popular **activation function** because it introduces non-linearity to the model while being computationally efficient.\n",
        "\n",
        "**The second Dense layer**, or **the output layer**, produces the final output of the network, which in this case is a probability distribution over the 10 classes (digits 0-9). It contains **10 units (or neurons)** (10 classes) and uses the softmax activation function. **The softmax activation function** is used in **the output layer** for multi-class classification problems.\n",
        "\n",
        "## Compile the model\n",
        "\n",
        "The next step is to compile the model. Compiling a model configures it for training by specifying the optimizer, loss function, and metrics to be evaluated. This step translates the model's high-level architecture into a format suitable for training and evaluation.\n",
        "\n",
        "### Optimizer\n",
        "\n",
        "The **optimizer** used in this model is the **RMSprop (Root Mean Square Propagation) Optimizer**. RMSprop is particularly effective for training deep neural networks.\n",
        "\n",
        "### Loss Function\n",
        "\n",
        "The **loss function** used in this model is the **Categorical Crossentropy Loss Function**. This is the standard loss function used for multi-class classification problems where the target variable is one-hot encoded (as is the case with the MNIST Dataset).\n",
        "\n",
        "### Metrics\n",
        "\n",
        "The metric used to evaluate this model is **Accuracy**. Accuracy measures the proportion of correctly classified samples out of the total samples. It is a commonly used metric for classification tasks.\n",
        "\n",
        "## Fit the model\n",
        "\n",
        "The final step in creating our model is to fit the model. The `.fit()` method initiates the training process on the provided data."
      ]
    },
    {
      "cell_type": "code",
      "execution_count": 17,
      "metadata": {
        "colab": {
          "base_uri": "https://localhost:8080/"
        },
        "id": "aW_ANTxz_Zhw",
        "outputId": "ed98b99b-e27d-4a38-b0b1-6cf5a9882a6e"
      },
      "outputs": [
        {
          "name": "stdout",
          "output_type": "stream",
          "text": [
            "Epoch 1/5\n",
            "\u001b[1m469/469\u001b[0m \u001b[32m━━━━━━━━━━━━━━━━━━━━\u001b[0m\u001b[37m\u001b[0m \u001b[1m1s\u001b[0m 2ms/step - accuracy: 0.8727 - loss: 0.4413\n",
            "Epoch 2/5\n",
            "\u001b[1m469/469\u001b[0m \u001b[32m━━━━━━━━━━━━━━━━━━━━\u001b[0m\u001b[37m\u001b[0m \u001b[1m1s\u001b[0m 2ms/step - accuracy: 0.9669 - loss: 0.1150\n",
            "Epoch 3/5\n",
            "\u001b[1m469/469\u001b[0m \u001b[32m━━━━━━━━━━━━━━━━━━━━\u001b[0m\u001b[37m\u001b[0m \u001b[1m1s\u001b[0m 2ms/step - accuracy: 0.9807 - loss: 0.0696\n",
            "Epoch 4/5\n",
            "\u001b[1m469/469\u001b[0m \u001b[32m━━━━━━━━━━━━━━━━━━━━\u001b[0m\u001b[37m\u001b[0m \u001b[1m1s\u001b[0m 2ms/step - accuracy: 0.9855 - loss: 0.0503\n",
            "Epoch 5/5\n",
            "\u001b[1m469/469\u001b[0m \u001b[32m━━━━━━━━━━━━━━━━━━━━\u001b[0m\u001b[37m\u001b[0m \u001b[1m1s\u001b[0m 2ms/step - accuracy: 0.9900 - loss: 0.0357\n"
          ]
        },
        {
          "data": {
            "text/plain": [
              "<keras.src.callbacks.history.History at 0x3698ce310>"
            ]
          },
          "execution_count": 17,
          "metadata": {},
          "output_type": "execute_result"
        }
      ],
      "source": [
        "model = models.Sequential()\n",
        "model.add(layers.Dense(512, activation='relu', input_shape=(28 * 28, )))\n",
        "model.add(layers.Dense(10, activation='softmax'))\n",
        "\n",
        "model.compile(optimizer='rmsprop',\n",
        "                loss='categorical_crossentropy',\n",
        "                metrics = ['accuracy'])\n",
        "\n",
        "model.fit(train_images, train_labels, epochs=5, batch_size=128)"
      ]
    },
    {
      "cell_type": "markdown",
      "metadata": {
        "id": "RMUQsunQ2IOJ"
      },
      "source": [
        "# Predicting the value of a single, random image\n",
        "\n",
        "## Define the Process Image Function\n",
        "\n",
        "The first step in this stage is to define the **Process Image function** which pre-processes the image in order to change the image's dimensions.\n",
        "\n",
        "The `.flatten()` method converts a multi-dimensional image array into a one-dimensional array.\n",
        "\n",
        "The `np.expand_dims()` expression adds an extra dimension to the array at the specified axis. By adding a new axis at the 0th position, it essentially converts the **1D array** into a **2D array** where the first dimension is 1. This is used to make the image compatible with machine learning models that expect a batch dimension.\n",
        "\n",
        "The function then returns the image.\n",
        "\n",
        "## Select a random image (and pass it to the function)\n",
        "\n",
        "The next step is to select a random image from the dataset.\n",
        "\n",
        "## Display the image\n",
        "\n",
        "After the image is selected, the next step is to use the **Matplotlib** library to plot the image.\n",
        "\n",
        "## Get the predicted value (label)\n",
        "\n",
        "In order to test the predictions on a more granular level, we apply the `.predict()` method to the pre-processed image. This will only get the prediction of a single image and allow us to see both the image and the predicted integer-equivalent value (label), as well as the probability of the selected class."
      ]
    },
    {
      "cell_type": "code",
      "execution_count": 18,
      "metadata": {
        "id": "6AV6pOkr6aPc"
      },
      "outputs": [],
      "source": [
        "def preprocess_image(image):\n",
        "    image = image.flatten()\n",
        "    image = np.expand_dims(image, axis=0)\n",
        "\n",
        "    return image"
      ]
    },
    {
      "cell_type": "code",
      "execution_count": 19,
      "metadata": {
        "colab": {
          "base_uri": "https://localhost:8080/"
        },
        "id": "GEkgHdnq2JYw",
        "outputId": "aec4c316-8f9c-40df-8c81-d8244c3ddc92"
      },
      "outputs": [
        {
          "name": "stdout",
          "output_type": "stream",
          "text": [
            "Preprocessed image shape: (1, 784)\n"
          ]
        }
      ],
      "source": [
        "random_num = random.randint(0, len(test_images))\n",
        "\n",
        "single_image = test_images[random_num]\n",
        "preprocessed_image = preprocess_image(single_image)\n",
        "print(\"Preprocessed image shape:\", preprocessed_image.shape)"
      ]
    },
    {
      "cell_type": "code",
      "execution_count": 20,
      "metadata": {
        "colab": {
          "base_uri": "https://localhost:8080/",
          "height": 430
        },
        "id": "rJjS95_P5OXk",
        "outputId": "e496bb2e-701e-43ff-bcf7-3b335e391e1a"
      },
      "outputs": [
        {
          "data": {
            "image/png": "[encoded data removed]",
            "text/plain": [
              "<Figure size 640x480 with 1 Axes>"
            ]
          },
          "metadata": {},
          "output_type": "display_data"
        }
      ],
      "source": [
        "first_image = np.array(preprocessed_image, dtype='float')\n",
        "pixels = first_image.reshape((28, 28))\n",
        "plt.imshow(pixels, cmap='gray')\n",
        "plt.show()"
      ]
    },
    {
      "cell_type": "code",
      "execution_count": 21,
      "metadata": {
        "colab": {
          "base_uri": "https://localhost:8080/"
        },
        "id": "-BepfNw96gbH",
        "outputId": "0238f1e7-5c8d-4525-9a14-8cc70f3c53fc"
      },
      "outputs": [
        {
          "name": "stdout",
          "output_type": "stream",
          "text": [
            "\u001b[1m1/1\u001b[0m \u001b[32m━━━━━━━━━━━━━━━━━━━━\u001b[0m\u001b[37m\u001b[0m \u001b[1m0s\u001b[0m 15ms/step\n",
            "Predicted class: 9\n",
            "This is the probability: 0.9996776580810547\n"
          ]
        }
      ],
      "source": [
        "try:\n",
        "    predictions = model.predict(preprocessed_image)\n",
        "    #print('These are the predictions:')\n",
        "    #print(predictions)\n",
        "\n",
        "    predicted_class = np.argmax(predictions)\n",
        "    print(f'Predicted class: {predicted_class}')\n",
        "\n",
        "    print(f'This is the probability: {predictions.max()}')\n",
        "except Exception as e:\n",
        "    print(f\"Error during prediction: {e}\")"
      ]
    },
    {
      "cell_type": "markdown",
      "metadata": {
        "id": "baniwBBn4toP"
      },
      "source": [
        "# Metrics\n",
        "\n",
        "Finally, we want to evaluate the accuracy of our model. To do this, we apply the evaluate method upon our model and pass the test images and labels as parameters.\n",
        "\n",
        "## Test Loss\n",
        "\n",
        "The Test Loss Function is a measure of how well a trained machine learning model performs on the test set. The test loss helps evaluate the generalization ability of the model. A lower test loss indicates that the model's predictions are closer to the true labels, suggesting that the test set has a good performance.\n",
        "\n",
        "## Metrics\n",
        "\n",
        "The **Accuracy metric**, as mentioned previously, measures the proportion of correctly classified samples out of the total samples. The Accuracy of the test dataset can be seen below."
      ]
    },
    {
      "cell_type": "code",
      "execution_count": 22,
      "metadata": {
        "colab": {
          "base_uri": "https://localhost:8080/"
        },
        "id": "0TvzBzArAtv3",
        "outputId": "c5159ef3-b2e6-44f7-f3f8-8de970324828"
      },
      "outputs": [
        {
          "name": "stdout",
          "output_type": "stream",
          "text": [
            "\u001b[1m313/313\u001b[0m \u001b[32m━━━━━━━━━━━━━━━━━━━━\u001b[0m\u001b[37m\u001b[0m \u001b[1m0s\u001b[0m 458us/step - accuracy: 0.9770 - loss: 0.0748\n",
            "Test Loss: 0.06127774715423584\n",
            "Test Accuracy: 98.18999767303467%\n"
          ]
        }
      ],
      "source": [
        "test_loss, test_acc = model.evaluate(test_images, test_labels)\n",
        "\n",
        "print(f\"Test Loss: {test_loss}\")\n",
        "print(f\"Test Accuracy: {test_acc * 100}%\")"
      ]
    }
  ],
  "metadata": {
    "colab": {
      "provenance": []
    },
    "kernelspec": {
      "display_name": "Python 3",
      "name": "python3"
    },
    "language_info": {
      "codemirror_mode": {
        "name": "ipython",
        "version": 3
      },
      "file_extension": ".py",
      "mimetype": "text/x-python",
      "name": "python",
      "nbconvert_exporter": "python",
      "pygments_lexer": "ipython3",
      "version": "3.9.6"
    }
  },
  "nbformat": 4,
  "nbformat_minor": 0
}
